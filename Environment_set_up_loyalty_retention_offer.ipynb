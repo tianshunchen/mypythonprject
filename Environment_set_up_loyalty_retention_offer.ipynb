{
 "cells": [
  {
   "cell_type": "markdown",
   "id": "8cf3b79e",
   "metadata": {},
   "source": [
    "# Import python packages"
   ]
  },
  {
   "cell_type": "code",
   "execution_count": 1,
   "id": "1ee5b5d1",
   "metadata": {
    "scrolled": false
   },
   "outputs": [],
   "source": [
    "import pandas as pd\n",
    "import numpy as np\n",
    "# %pip install pypandoc --user\n",
    "# %pip install jupyslides --user\n",
    "# %pip install yellowbrick --user\n",
    "# %pip install plotly --user\n",
    "# %pip install dill --user"
   ]
  },
  {
   "cell_type": "markdown",
   "id": "62a2ece3",
   "metadata": {},
   "source": [
    "# Establish connection to database"
   ]
  },
  {
   "cell_type": "code",
   "execution_count": 59,
   "id": "166f5e6d",
   "metadata": {},
   "outputs": [],
   "source": [
    "import pyodbc\n",
    "import urllib\n",
    "import sqlalchemy\n",
    "\n",
    "'''sources databases'''\n",
    "params_p = urllib.parse.quote_plus(\"DRIVER={SQL Server Native Client 11.0};\"\n",
    "                                 \"SERVER=localhost\\SQLEXPRESS;\"\n",
    "                                 \"DATABASE=DataWarehouse1;\"\n",
    "                                 \"UID=sa;\"\n",
    "                                 \"PWD=user1\")\n",
    "\n",
    "engine_p = sqlalchemy.create_engine(\"mssql+pyodbc:///?odbc_connect={}\".format(params_p))\n",
    "\n",
    "\n",
    "params_s = urllib.parse.quote_plus(\"DRIVER={SQL Server Native Client 11.0};\"\n",
    "                                 \"SERVER=localhost\\SQLEXPRESS;\"\n",
    "                                 \"DATABASE=DataWarehouse2;\"\n",
    "                                 \"UID=sa;\"\n",
    "                                 \"PWD=user1\")\n",
    "\n",
    "engine_s = sqlalchemy.create_engine(\"mssql+pyodbc:///?odbc_connect={}\".format(params_s))\n",
    "\n",
    "\n",
    "\n",
    "'''destination databases'''\n",
    "\n",
    "params_datahub = urllib.parse.quote_plus(\"DRIVER={SQL Server Native Client 11.0};\"\n",
    "                                 \"SERVER=localhost\\SQLEXPRESS;\"\n",
    "                                 \"DATABASE=datahub;\"\n",
    "                                 \"UID=sa;\"\n",
    "                                 \"PWD=user1\")\n",
    "\n",
    "engine_datahub = sqlalchemy.create_engine(\"mssql+pyodbc:///?odbc_connect={}\".format(params_datahub))"
   ]
  },
  {
   "cell_type": "markdown",
   "id": "cc052a29",
   "metadata": {},
   "source": [
    "# Import data & Export data to database"
   ]
  },
  {
   "cell_type": "code",
   "execution_count": 60,
   "id": "be005536",
   "metadata": {},
   "outputs": [],
   "source": [
    "'''UCI Data'''\n",
    "\n",
    "'''initial ETL to database'''\n",
    "import os\n",
    "import glob\n",
    "from pathlib import Path\n",
    "directoryPath=r'C:/Business_Data_Analysis/data/'\n",
    "df_uci_p=pd.read_excel(directoryPath+'UCI Case Data.xlsx')\n",
    "df_uci_s=pd.read_excel(directoryPath+'UCI Case Data_new.xlsx')\n",
    "\n",
    "'''export data to datahub'''\n",
    "df_uci_s.to_sql('uci_case_data_new', engine_datahub, if_exists='replace',index=False)\n",
    "df_uci_p.to_sql('uci_case_data_p', engine_datahub,if_exists='replace',index=False)\n"
   ]
  },
  {
   "cell_type": "code",
   "execution_count": 61,
   "id": "f251c1dc",
   "metadata": {},
   "outputs": [
    {
     "data": {
      "text/plain": [
       "(24, 16)"
      ]
     },
     "execution_count": 61,
     "metadata": {},
     "output_type": "execute_result"
    }
   ],
   "source": [
    "df_uci_s.shape\n"
   ]
  },
  {
   "cell_type": "code",
   "execution_count": 62,
   "id": "8e309f25",
   "metadata": {},
   "outputs": [
    {
     "data": {
      "text/plain": [
       "RETAINED_OR_CLOSED              object\n",
       "MONTH_RETAINED          datetime64[ns]\n",
       "TIMEKEY                 datetime64[ns]\n",
       "ACCOUNTS                         int64\n",
       "LOYALTY_ISSUED                 float64\n",
       "REDEEMED_LOYALTY               float64\n",
       "ACTIVE_ACCOUNTS                  int64\n",
       "INTEREST_EARNED                float64\n",
       "OPEN_ACCOUNTS                    int64\n",
       "BALANCE_WRITTENOFF             float64\n",
       "PAYMENTS                       float64\n",
       "NET_INTERNAL_SALES             float64\n",
       "NET_EXTERNAL_SALES             float64\n",
       "PURCHASE_ACTIVE                  int64\n",
       "OUTSTANDING_BALANCES           float64\n",
       "INSURANCE_PREMIUMS             float64\n",
       "dtype: object"
      ]
     },
     "execution_count": 62,
     "metadata": {},
     "output_type": "execute_result"
    }
   ],
   "source": [
    "df_uci_p.dtypes\n"
   ]
  },
  {
   "cell_type": "markdown",
   "id": "17452155",
   "metadata": {},
   "source": [
    "# Check data"
   ]
  },
  {
   "cell_type": "code",
   "execution_count": 63,
   "id": "3767166e",
   "metadata": {},
   "outputs": [],
   "source": [
    "df_uci_all = pd.concat([df_uci_s,df_uci_p])"
   ]
  },
  {
   "cell_type": "code",
   "execution_count": 64,
   "id": "2e311cd2",
   "metadata": {},
   "outputs": [
    {
     "data": {
      "text/plain": [
       "(648, 16)"
      ]
     },
     "execution_count": 64,
     "metadata": {},
     "output_type": "execute_result"
    }
   ],
   "source": [
    "df_uci_all.shape"
   ]
  },
  {
   "cell_type": "code",
   "execution_count": 65,
   "id": "3179d366",
   "metadata": {},
   "outputs": [],
   "source": [
    "df_uci_all.drop_duplicates(keep='first', inplace=True)"
   ]
  },
  {
   "cell_type": "code",
   "execution_count": 66,
   "id": "811be225",
   "metadata": {},
   "outputs": [
    {
     "data": {
      "text/plain": [
       "(648, 16)"
      ]
     },
     "execution_count": 66,
     "metadata": {},
     "output_type": "execute_result"
    }
   ],
   "source": [
    "df_uci_all.shape"
   ]
  },
  {
   "cell_type": "code",
   "execution_count": 67,
   "id": "0988f340",
   "metadata": {},
   "outputs": [],
   "source": [
    "df_uci_all.to_sql(\"UCI\", engine_datahub,if_exists='replace',index=False)"
   ]
  },
  {
   "cell_type": "code",
   "execution_count": null,
   "id": "bd962d30",
   "metadata": {},
   "outputs": [],
   "source": []
  }
 ],
 "metadata": {
  "kernelspec": {
   "display_name": "Python 3 (ipykernel)",
   "language": "python",
   "name": "python3"
  },
  "language_info": {
   "codemirror_mode": {
    "name": "ipython",
    "version": 3
   },
   "file_extension": ".py",
   "mimetype": "text/x-python",
   "name": "python",
   "nbconvert_exporter": "python",
   "pygments_lexer": "ipython3",
   "version": "3.9.7"
  }
 },
 "nbformat": 4,
 "nbformat_minor": 5
}
