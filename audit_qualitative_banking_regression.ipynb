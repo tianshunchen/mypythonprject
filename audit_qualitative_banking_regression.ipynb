{
 "cells": [
  {
   "cell_type": "markdown",
   "metadata": {},
   "source": [
    "# Qualitative Bankruptcy Analysis\n",
    "    a.    Examine the data description and build a classification model to predict the end point. \n",
    "    b.    Interpret the results and explain."
   ]
  },
  {
   "cell_type": "markdown",
   "metadata": {},
   "source": [
    "## Import Packages"
   ]
  },
  {
   "cell_type": "code",
   "execution_count": 12,
   "metadata": {},
   "outputs": [],
   "source": [
    "import pandas as pd\n",
    "import numpy as np\n",
    "import matplotlib.pyplot as plt\n",
    "import seaborn as sns\n",
    "%matplotlib inline\n",
    "# %pip install yellowbrick --user\n",
    "# %pip install plotly --user "
   ]
  },
  {
   "cell_type": "markdown",
   "metadata": {},
   "source": [
    "## Load data"
   ]
  },
  {
   "cell_type": "code",
   "execution_count": 13,
   "metadata": {},
   "outputs": [],
   "source": [
    "import pyodbc\n",
    "import urllib\n",
    "import sqlalchemy\n",
    "\n",
    "'''connect to datahub'''\n",
    "\n",
    "params_datahub = urllib.parse.quote_plus(\"DRIVER={SQL Server Native Client 11.0};\"\n",
    "                                 \"SERVER=localhost\\SQLEXPRESS;\"\n",
    "                                 \"DATABASE=datahub;\"\n",
    "                                 \"UID=sa;\"\n",
    "                                 \"PWD=user1\")\n",
    "\n",
    "engine_datahub = sqlalchemy.create_engine(\"mssql+pyodbc:///?odbc_connect={}\".format(params_datahub))"
   ]
  },
  {
   "cell_type": "code",
   "execution_count": 14,
   "metadata": {},
   "outputs": [
    {
     "data": {
      "text/html": [
       "<div>\n",
       "<style scoped>\n",
       "    .dataframe tbody tr th:only-of-type {\n",
       "        vertical-align: middle;\n",
       "    }\n",
       "\n",
       "    .dataframe tbody tr th {\n",
       "        vertical-align: top;\n",
       "    }\n",
       "\n",
       "    .dataframe thead th {\n",
       "        text-align: right;\n",
       "    }\n",
       "</style>\n",
       "<table border=\"1\" class=\"dataframe\">\n",
       "  <thead>\n",
       "    <tr style=\"text-align: right;\">\n",
       "      <th></th>\n",
       "      <th>Industrial Risk</th>\n",
       "      <th>Management Risk</th>\n",
       "      <th>Financial Flexibility</th>\n",
       "      <th>Credibility</th>\n",
       "      <th>Competitiveness</th>\n",
       "      <th>Operating Risk</th>\n",
       "      <th>Class</th>\n",
       "    </tr>\n",
       "  </thead>\n",
       "  <tbody>\n",
       "    <tr>\n",
       "      <th>0</th>\n",
       "      <td>P</td>\n",
       "      <td>P</td>\n",
       "      <td>A</td>\n",
       "      <td>A</td>\n",
       "      <td>A</td>\n",
       "      <td>P</td>\n",
       "      <td>NB</td>\n",
       "    </tr>\n",
       "    <tr>\n",
       "      <th>1</th>\n",
       "      <td>N</td>\n",
       "      <td>N</td>\n",
       "      <td>A</td>\n",
       "      <td>A</td>\n",
       "      <td>A</td>\n",
       "      <td>N</td>\n",
       "      <td>NB</td>\n",
       "    </tr>\n",
       "    <tr>\n",
       "      <th>2</th>\n",
       "      <td>A</td>\n",
       "      <td>A</td>\n",
       "      <td>A</td>\n",
       "      <td>A</td>\n",
       "      <td>A</td>\n",
       "      <td>A</td>\n",
       "      <td>NB</td>\n",
       "    </tr>\n",
       "    <tr>\n",
       "      <th>3</th>\n",
       "      <td>P</td>\n",
       "      <td>P</td>\n",
       "      <td>P</td>\n",
       "      <td>P</td>\n",
       "      <td>P</td>\n",
       "      <td>P</td>\n",
       "      <td>NB</td>\n",
       "    </tr>\n",
       "    <tr>\n",
       "      <th>4</th>\n",
       "      <td>N</td>\n",
       "      <td>N</td>\n",
       "      <td>P</td>\n",
       "      <td>P</td>\n",
       "      <td>P</td>\n",
       "      <td>N</td>\n",
       "      <td>NB</td>\n",
       "    </tr>\n",
       "  </tbody>\n",
       "</table>\n",
       "</div>"
      ],
      "text/plain": [
       "  Industrial Risk Management Risk Financial Flexibility Credibility  \\\n",
       "0               P               P                     A           A   \n",
       "1               N               N                     A           A   \n",
       "2               A               A                     A           A   \n",
       "3               P               P                     P           P   \n",
       "4               N               N                     P           P   \n",
       "\n",
       "  Competitiveness Operating Risk Class  \n",
       "0               A              P    NB  \n",
       "1               A              N    NB  \n",
       "2               A              A    NB  \n",
       "3               P              P    NB  \n",
       "4               P              N    NB  "
      ]
     },
     "execution_count": 14,
     "metadata": {},
     "output_type": "execute_result"
    }
   ],
   "source": [
    "# columns=['Industrial Risk','Management Risk','Financial Flexibility',\n",
    "#          'Credibility','Competitiveness','Operating Risk','Class']\n",
    "df=pd.read_sql_table(\"audit_qualitative_bankruptcy\",engine_datahub)\n",
    "df.head()"
   ]
  },
  {
   "cell_type": "markdown",
   "metadata": {},
   "source": [
    "# Exploratory Data Analysis(EDA) "
   ]
  },
  {
   "cell_type": "markdown",
   "metadata": {},
   "source": [
    "## Check missing values and shape\n",
    "Normally we need to clean the samples, i,e., impute missing values but in this case the data is pretty clean with no missing values. We also check the shape to make sure it matches the meta data info in the document. "
   ]
  },
  {
   "cell_type": "code",
   "execution_count": 15,
   "metadata": {},
   "outputs": [
    {
     "name": "stdout",
     "output_type": "stream",
     "text": [
      "<class 'pandas.core.frame.DataFrame'>\n",
      "RangeIndex: 250 entries, 0 to 249\n",
      "Data columns (total 7 columns):\n",
      " #   Column                 Non-Null Count  Dtype \n",
      "---  ------                 --------------  ----- \n",
      " 0   Industrial Risk        250 non-null    object\n",
      " 1   Management Risk        250 non-null    object\n",
      " 2   Financial Flexibility  250 non-null    object\n",
      " 3   Credibility            250 non-null    object\n",
      " 4   Competitiveness        250 non-null    object\n",
      " 5   Operating Risk         250 non-null    object\n",
      " 6   Class                  250 non-null    object\n",
      "dtypes: object(7)\n",
      "memory usage: 13.8+ KB\n"
     ]
    },
    {
     "data": {
      "text/plain": [
       "(None, (250, 7))"
      ]
     },
     "execution_count": 15,
     "metadata": {},
     "output_type": "execute_result"
    }
   ],
   "source": [
    "df.info(), df.shape"
   ]
  },
  {
   "cell_type": "markdown",
   "metadata": {},
   "source": [
    "## Check Bankruptcy vs Non Bankruptcy ratio\n",
    "The samples are balanced so we can use \"Accuracy\" metric to measure the performance of the model"
   ]
  },
  {
   "cell_type": "code",
   "execution_count": 16,
   "metadata": {},
   "outputs": [
    {
     "data": {
      "text/plain": [
       "<AxesSubplot:>"
      ]
     },
     "execution_count": 16,
     "metadata": {},
     "output_type": "execute_result"
    },
    {
     "data": {
      "image/png": "[encoded data removed]",
      "text/plain": [
       "<Figure size 432x288 with 1 Axes>"
      ]
     },
     "metadata": {
      "needs_background": "light"
     },
     "output_type": "display_data"
    }
   ],
   "source": [
    "df.Class.value_counts().plot(kind='bar')"
   ]
  },
  {
   "cell_type": "markdown",
   "metadata": {},
   "source": [
    "## Exploratory Data Analysis(EDA) --- Percentage\n",
    "\n"
   ]
  },
  {
   "cell_type": "code",
   "execution_count": 17,
   "metadata": {
    "scrolled": false
   },
   "outputs": [
    {
     "data": {
      "text/plain": [
       "<Figure size 432x288 with 0 Axes>"
      ]
     },
     "metadata": {},
     "output_type": "display_data"
    },
    {
     "data": {
      "image/png": "[encoded data removed]",
      "text/plain": [
       "<Figure size 409.875x360 with 1 Axes>"
      ]
     },
     "metadata": {
      "needs_background": "light"
     },
     "output_type": "display_data"
    },
    {
     "data": {
      "image/png": "[encoded data removed]",
      "text/plain": [
       "<Figure size 409.875x360 with 1 Axes>"
      ]
     },
     "metadata": {
      "needs_background": "light"
     },
     "output_type": "display_data"
    },
    {
     "data": {
      "image/png": "[encoded data removed]",
      "text/plain": [
       "<Figure size 409.875x360 with 1 Axes>"
      ]
     },
     "metadata": {
      "needs_background": "light"
     },
     "output_type": "display_data"
    },
    {
     "data": {
      "image/png": "[encoded data removed]",
      "text/plain": [
       "<Figure size 409.875x360 with 1 Axes>"
      ]
     },
     "metadata": {
      "needs_background": "light"
     },
     "output_type": "display_data"
    },
    {
     "data": {
      "image/png": "[encoded data removed]",
      "text/plain": [
       "<Figure size 409.875x360 with 1 Axes>"
      ]
     },
     "metadata": {
      "needs_background": "light"
     },
     "output_type": "display_data"
    },
    {
     "data": {
      "image/png": "[encoded data removed]",
      "text/plain": [
       "<Figure size 409.875x360 with 1 Axes>"
      ]
     },
     "metadata": {
      "needs_background": "light"
     },
     "output_type": "display_data"
    }
   ],
   "source": [
    "#Plot each attribute vs Class in percentage\n",
    "\n",
    "y = 'Class'\n",
    "for i, predictor in enumerate(df.drop(columns=['Class'])):\n",
    "    plt.figure(i)\n",
    "    df1 = df.groupby(predictor)[y].value_counts(normalize=True)\n",
    "    df1 = df1.mul(100)\n",
    "    df1 = df1.rename('percent').reset_index()\n",
    "\n",
    "    g = sns.catplot(x=predictor,y='percent',hue=y,kind='bar',data=df1,order = ['N', 'P', 'A'],\n",
    "                    palette=sns.color_palette(['lightseagreen', 'tomato']))\n",
    "    g.ax.set_ylim(0,100)\n",
    "\n",
    "    for p in g.ax.patches:\n",
    "        txt = str(np.nan_to_num(p.get_height().round(2))) + '%'\n",
    "        txt_x = p.get_x() \n",
    "        txt_y = p.get_height()\n",
    "        txt_y=np.nan_to_num(txt_y)\n",
    "        g.ax.text(txt_x,txt_y,txt)"
   ]
  },
  {
   "cell_type": "markdown",
   "metadata": {},
   "source": [
    "## Preliminary Analysis:\n",
    "From the EDA we can see that Competitiveness, Credibility and Financial Flexibility are relatively important qualitative parameters in predicting bankruptcy. In the case of Competitiveness, if the value is N (negative), 100 %( 103 cases) of the instances/cases are bankrupt and if P (Positive) 100 %( 91 cases) not bankrupt. Therefore the ability to improve Market position, to achieve higher level of core capacities and to have Differentiated strategy is the key to remain in the business. Similarly for Credibility, negative credibility has 93% bankruptcy rate and for Financial Flexibility negative value has 86% bankruptcy rate. Therefore we know that credibility is critical for a bank, you lose it you lose the business. Financial Flexibility allows us to borrow money and maintain high liquidity when needed and hence is important especially in difficult times like financial crisis.\n",
    "As for the risk group attributes(Industrial Risk, Management Risk, Operating Risk),from the charts we can see when the risks are positive, it makes a big difference. For the risk group attribute, if it's positive the Non-Bankruptcy percentage are 67.5%, 82.3% and 76.0% for Industrial Risk, Management Risk, and Operating Risk respectively. This means reducing the risks does pay off in terms of keeping the business alive.\n",
    "\n",
    "\n",
    "\n",
    "\n"
   ]
  },
  {
   "cell_type": "markdown",
   "metadata": {},
   "source": [
    "## Exploratory Data Analysis(EDA) --- Counts\n",
    "This is to confirm the percentage analysis."
   ]
  },
  {
   "cell_type": "code",
   "execution_count": 18,
   "metadata": {
    "scrolled": false
   },
   "outputs": [
    {
     "data": {
      "image/png": "[encoded data removed]",
      "text/plain": [
       "<Figure size 432x288 with 1 Axes>"
      ]
     },
     "metadata": {
      "needs_background": "light"
     },
     "output_type": "display_data"
    },
    {
     "data": {
      "image/png": "[encoded data removed]",
      "text/plain": [
       "<Figure size 432x288 with 1 Axes>"
      ]
     },
     "metadata": {
      "needs_background": "light"
     },
     "output_type": "display_data"
    },
    {
     "data": {
      "image/png": "[encoded data removed]",
      "text/plain": [
       "<Figure size 432x288 with 1 Axes>"
      ]
     },
     "metadata": {
      "needs_background": "light"
     },
     "output_type": "display_data"
    },
    {
     "data": {
      "image/png": "[encoded data removed]",
      "text/plain": [
       "<Figure size 432x288 with 1 Axes>"
      ]
     },
     "metadata": {
      "needs_background": "light"
     },
     "output_type": "display_data"
    },
    {
     "data": {
      "image/png": "[encoded data removed]",
      "text/plain": [
       "<Figure size 432x288 with 1 Axes>"
      ]
     },
     "metadata": {
      "needs_background": "light"
     },
     "output_type": "display_data"
    },
    {
     "data": {
      "image/png": "[encoded data removed]",
      "text/plain": [
       "<Figure size 432x288 with 1 Axes>"
      ]
     },
     "metadata": {
      "needs_background": "light"
     },
     "output_type": "display_data"
    }
   ],
   "source": [
    "for i, predictor in enumerate(df.drop(columns=['Class'])):\n",
    "    plt.figure(i)\n",
    "    g1=sns.countplot(data=df, x=predictor, hue='Class',order = ['N', 'P', 'A'],palette=sns.color_palette(['lightseagreen', 'tomato']))\n",
    "\n",
    "    for p in g1.patches:\n",
    "        height = p.get_height()\n",
    "        height=np.nan_to_num(height)\n",
    "        g1.text(p.get_x()+p.get_width()/2., height + 0.1,height ,ha=\"center\")\n",
    "      "
   ]
  },
  {
   "cell_type": "markdown",
   "metadata": {},
   "source": [
    "## Exploratory Data Analysis(EDA) ---Associations among attributes\n",
    "For categorical attributes we can use Cramér’s V to generate a heatmap like correlation heatmap for numerical attributes. \n",
    "It is based on a nominal variation of Pearson’s Chi-Square Test"
   ]
  },
  {
   "cell_type": "code",
   "execution_count": 19,
   "metadata": {},
   "outputs": [
    {
     "data": {
      "text/plain": [
       "<AxesSubplot:>"
      ]
     },
     "execution_count": 19,
     "metadata": {},
     "output_type": "execute_result"
    },
    {
     "data": {
      "image/png": "[encoded data removed]",
      "text/plain": [
       "<Figure size 432x288 with 2 Axes>"
      ]
     },
     "metadata": {
      "needs_background": "light"
     },
     "output_type": "display_data"
    }
   ],
   "source": [
    "#import stats package\n",
    "import scipy.stats as ss\n",
    "\n",
    "#define the Cramér’s V function to get the association\n",
    "def cramers_v(x, y):\n",
    "    confusion_matrix = pd.crosstab(x,y)\n",
    "    chi2 = ss.chi2_contingency(confusion_matrix)[0]\n",
    "    n = confusion_matrix.sum().sum()\n",
    "    phi2 = chi2/n\n",
    "    r,k = confusion_matrix.shape\n",
    "    phi2corr = max(0, phi2-((k-1)*(r-1))/(n-1))\n",
    "    rcorr = r-((r-1)**2)/(n-1)\n",
    "    kcorr = k-((k-1)**2)/(n-1)\n",
    "    return np.sqrt(phi2corr/min((kcorr-1),(rcorr-1)))\n",
    "\n",
    "# create the dataset with association coefficeints for heatmap\n",
    "g=pd.DataFrame()\n",
    "cols=df.drop(columns=\"Class\").columns.tolist()\n",
    "for c1 in cols:\n",
    "    l=[]\n",
    "    f=[]\n",
    "    d=pd.DataFrame()\n",
    "    \n",
    "    for c2 in cols:\n",
    "        l.append(cramers_v(df[c1],df[c2]))\n",
    "        f.append(c2) \n",
    "        d=pd.concat([d,pd.DataFrame(l,columns=[c1],index=f)]).drop_duplicates()\n",
    "    g=pd.concat([g,d],axis=1)\n",
    "\n",
    "sns.heatmap(g,annot=True)"
   ]
  },
  {
   "cell_type": "markdown",
   "metadata": {},
   "source": [
    "### Association Analysis\n",
    "From the association heatmap we can see that there are some associations among Competitiveness, \n",
    "Credibility and Financial Flexibility, which suggest that these attributes tend to go hand in hand. \n",
    "\n",
    "The risks don't have as strong associations with each other which suggest \n",
    "they are more independent of each other.\n"
   ]
  },
  {
   "cell_type": "markdown",
   "metadata": {},
   "source": [
    "# Data processing and Model building"
   ]
  },
  {
   "cell_type": "markdown",
   "metadata": {},
   "source": [
    "## Prepare features for model training"
   ]
  },
  {
   "cell_type": "code",
   "execution_count": 20,
   "metadata": {},
   "outputs": [
    {
     "data": {
      "text/html": [
       "<div>\n",
       "<style scoped>\n",
       "    .dataframe tbody tr th:only-of-type {\n",
       "        vertical-align: middle;\n",
       "    }\n",
       "\n",
       "    .dataframe tbody tr th {\n",
       "        vertical-align: top;\n",
       "    }\n",
       "\n",
       "    .dataframe thead th {\n",
       "        text-align: right;\n",
       "    }\n",
       "</style>\n",
       "<table border=\"1\" class=\"dataframe\">\n",
       "  <thead>\n",
       "    <tr style=\"text-align: right;\">\n",
       "      <th></th>\n",
       "      <th>Industrial Risk_A</th>\n",
       "      <th>Industrial Risk_N</th>\n",
       "      <th>Industrial Risk_P</th>\n",
       "      <th>Management Risk_A</th>\n",
       "      <th>Management Risk_N</th>\n",
       "      <th>Management Risk_P</th>\n",
       "      <th>Financial Flexibility_A</th>\n",
       "      <th>Financial Flexibility_N</th>\n",
       "      <th>Financial Flexibility_P</th>\n",
       "      <th>Credibility_A</th>\n",
       "      <th>Credibility_N</th>\n",
       "      <th>Credibility_P</th>\n",
       "      <th>Competitiveness_A</th>\n",
       "      <th>Competitiveness_N</th>\n",
       "      <th>Competitiveness_P</th>\n",
       "      <th>Operating Risk_A</th>\n",
       "      <th>Operating Risk_N</th>\n",
       "      <th>Operating Risk_P</th>\n",
       "    </tr>\n",
       "  </thead>\n",
       "  <tbody>\n",
       "    <tr>\n",
       "      <th>0</th>\n",
       "      <td>0</td>\n",
       "      <td>0</td>\n",
       "      <td>1</td>\n",
       "      <td>0</td>\n",
       "      <td>0</td>\n",
       "      <td>1</td>\n",
       "      <td>1</td>\n",
       "      <td>0</td>\n",
       "      <td>0</td>\n",
       "      <td>1</td>\n",
       "      <td>0</td>\n",
       "      <td>0</td>\n",
       "      <td>1</td>\n",
       "      <td>0</td>\n",
       "      <td>0</td>\n",
       "      <td>0</td>\n",
       "      <td>0</td>\n",
       "      <td>1</td>\n",
       "    </tr>\n",
       "    <tr>\n",
       "      <th>1</th>\n",
       "      <td>0</td>\n",
       "      <td>1</td>\n",
       "      <td>0</td>\n",
       "      <td>0</td>\n",
       "      <td>1</td>\n",
       "      <td>0</td>\n",
       "      <td>1</td>\n",
       "      <td>0</td>\n",
       "      <td>0</td>\n",
       "      <td>1</td>\n",
       "      <td>0</td>\n",
       "      <td>0</td>\n",
       "      <td>1</td>\n",
       "      <td>0</td>\n",
       "      <td>0</td>\n",
       "      <td>0</td>\n",
       "      <td>1</td>\n",
       "      <td>0</td>\n",
       "    </tr>\n",
       "    <tr>\n",
       "      <th>2</th>\n",
       "      <td>1</td>\n",
       "      <td>0</td>\n",
       "      <td>0</td>\n",
       "      <td>1</td>\n",
       "      <td>0</td>\n",
       "      <td>0</td>\n",
       "      <td>1</td>\n",
       "      <td>0</td>\n",
       "      <td>0</td>\n",
       "      <td>1</td>\n",
       "      <td>0</td>\n",
       "      <td>0</td>\n",
       "      <td>1</td>\n",
       "      <td>0</td>\n",
       "      <td>0</td>\n",
       "      <td>1</td>\n",
       "      <td>0</td>\n",
       "      <td>0</td>\n",
       "    </tr>\n",
       "    <tr>\n",
       "      <th>3</th>\n",
       "      <td>0</td>\n",
       "      <td>0</td>\n",
       "      <td>1</td>\n",
       "      <td>0</td>\n",
       "      <td>0</td>\n",
       "      <td>1</td>\n",
       "      <td>0</td>\n",
       "      <td>0</td>\n",
       "      <td>1</td>\n",
       "      <td>0</td>\n",
       "      <td>0</td>\n",
       "      <td>1</td>\n",
       "      <td>0</td>\n",
       "      <td>0</td>\n",
       "      <td>1</td>\n",
       "      <td>0</td>\n",
       "      <td>0</td>\n",
       "      <td>1</td>\n",
       "    </tr>\n",
       "    <tr>\n",
       "      <th>4</th>\n",
       "      <td>0</td>\n",
       "      <td>1</td>\n",
       "      <td>0</td>\n",
       "      <td>0</td>\n",
       "      <td>1</td>\n",
       "      <td>0</td>\n",
       "      <td>0</td>\n",
       "      <td>0</td>\n",
       "      <td>1</td>\n",
       "      <td>0</td>\n",
       "      <td>0</td>\n",
       "      <td>1</td>\n",
       "      <td>0</td>\n",
       "      <td>0</td>\n",
       "      <td>1</td>\n",
       "      <td>0</td>\n",
       "      <td>1</td>\n",
       "      <td>0</td>\n",
       "    </tr>\n",
       "  </tbody>\n",
       "</table>\n",
       "</div>"
      ],
      "text/plain": [
       "   Industrial Risk_A  Industrial Risk_N  Industrial Risk_P  Management Risk_A  \\\n",
       "0                  0                  0                  1                  0   \n",
       "1                  0                  1                  0                  0   \n",
       "2                  1                  0                  0                  1   \n",
       "3                  0                  0                  1                  0   \n",
       "4                  0                  1                  0                  0   \n",
       "\n",
       "   Management Risk_N  Management Risk_P  Financial Flexibility_A  \\\n",
       "0                  0                  1                        1   \n",
       "1                  1                  0                        1   \n",
       "2                  0                  0                        1   \n",
       "3                  0                  1                        0   \n",
       "4                  1                  0                        0   \n",
       "\n",
       "   Financial Flexibility_N  Financial Flexibility_P  Credibility_A  \\\n",
       "0                        0                        0              1   \n",
       "1                        0                        0              1   \n",
       "2                        0                        0              1   \n",
       "3                        0                        1              0   \n",
       "4                        0                        1              0   \n",
       "\n",
       "   Credibility_N  Credibility_P  Competitiveness_A  Competitiveness_N  \\\n",
       "0              0              0                  1                  0   \n",
       "1              0              0                  1                  0   \n",
       "2              0              0                  1                  0   \n",
       "3              0              1                  0                  0   \n",
       "4              0              1                  0                  0   \n",
       "\n",
       "   Competitiveness_P  Operating Risk_A  Operating Risk_N  Operating Risk_P  \n",
       "0                  0                 0                 0                 1  \n",
       "1                  0                 0                 1                 0  \n",
       "2                  0                 1                 0                 0  \n",
       "3                  1                 0                 0                 1  \n",
       "4                  1                 0                 1                 0  "
      ]
     },
     "execution_count": 20,
     "metadata": {},
     "output_type": "execute_result"
    }
   ],
   "source": [
    "# define encode function to encode categoritcal features\n",
    "def one_hot(df, cols):\n",
    "    \"\"\"\n",
    "    @param df pandas DataFrame\n",
    "    @param cols a list of columns to encode \n",
    "    @return a DataFrame with one-hot encoding\n",
    "    \"\"\"\n",
    "    for each in cols:\n",
    "        dummies = pd.get_dummies(df[each], prefix=each, drop_first=False)\n",
    "        df = pd.concat([df, dummies], axis=1)\n",
    "        df = df.drop([each], axis=1)\n",
    "    return df\n",
    "\n",
    "#Lable Class attribute\n",
    "df_class = np.where(df['Class']=='NB',0,1)\n",
    "\n",
    "#encode categorical features\n",
    "df_encoded=one_hot(df.drop(columns=['Class']),df.drop(columns=['Class']).columns)\n",
    "df_encoded.head()"
   ]
  },
  {
   "cell_type": "markdown",
   "metadata": {},
   "source": [
    "## Create the function to train the model, test it, and visualize the results"
   ]
  },
  {
   "cell_type": "code",
   "execution_count": 21,
   "metadata": {},
   "outputs": [],
   "source": [
    "def bankruptcy_prediction(algorithm, training_x, testing_x, training_y, testing_y, cf, threshold_plot):\n",
    "    #model\n",
    "    algorithm.fit(training_x, training_y)\n",
    "    predictions = algorithm.predict(testing_x)\n",
    "    probabilities = algorithm.predict_proba(testing_x)\n",
    "        \n",
    "    print('Algorithm:', type(algorithm).__name__)\n",
    "    print(\"\\nClassification report:\\n\", classification_report(testing_y, predictions))\n",
    "    print(\"Accuracy Score:\", accuracy_score(testing_y, predictions))\n",
    "    \n",
    "    #confusion matrix\n",
    "    conf_matrix = confusion_matrix(testing_y, predictions)\n",
    "    #roc_auc_score\n",
    "    model_roc_auc = roc_auc_score(testing_y, predictions) \n",
    "    print(\"Area under curve:\", model_roc_auc,\"\\n\")\n",
    "    \n",
    "    fpr, tpr, thresholds = roc_curve(testing_y, probabilities[:,1])\n",
    "     \n",
    "    #plot confusion matrix\n",
    "    trace1 = go.Heatmap(z = conf_matrix,\n",
    "                        x = [\"Not B\", \"B\"],\n",
    "                        y = [\"Not B\", \"B\"],\n",
    "                        showscale = False, colorscale = \"Picnic\",\n",
    "                        name = \"Confusion matrix\")\n",
    "    \n",
    "    #plot roc curve\n",
    "    trace2 = go.Scatter(x = fpr, y = tpr,\n",
    "                        name = \"Roc: \" + str(model_roc_auc),\n",
    "                        line = dict(color = ('rgb(22, 96, 167)'), width = 2))\n",
    "    trace3 = go.Scatter(x = [0,1], y = [0,1],\n",
    "                        line = dict(color = ('rgb(205, 12, 24)'), width = 2,\n",
    "                        dash = 'dot'))\n",
    "    \n",
    "    if cf in ['coefficients', 'features']:\n",
    "        if cf == 'coefficients':\n",
    "            coefficients = pd.DataFrame(algorithm.coef_.ravel())\n",
    "        elif cf == 'features':\n",
    "            coefficients = pd.DataFrame(algorithm.feature_importances_)\n",
    "        \n",
    "        column_df = pd.DataFrame(training_x.columns.tolist())\n",
    "        coef_sumry = (pd.merge(coefficients, column_df, left_index=True, \n",
    "                               right_index=True, how=\"left\"))\n",
    "        coef_sumry.columns = [\"coefficients\", \"features\"]\n",
    "        coef_sumry = coef_sumry.sort_values(by = \"coefficients\", ascending=False)\n",
    "        \n",
    "        #plot coeffs\n",
    "        trace4 = go.Bar(x = coef_sumry[\"features\"], y = coef_sumry[\"coefficients\"], \n",
    "                        name = \"coefficients\",\n",
    "                        marker = dict(color = coef_sumry[\"coefficients\"],\n",
    "                                      colorscale = \"Picnic\",\n",
    "                                      line = dict(width = .6, color = \"black\")\n",
    "                                     )\n",
    "                       )\n",
    "        #subplots\n",
    "        fig = make_subplots(rows=2, cols=2, specs=[[{}, {}], [{'colspan': 2}, None]],\n",
    "                                subplot_titles=('Confusion matrix',\n",
    "                                                'Receiver operating characteristic',\n",
    "                                                'Feature importances')\n",
    "                           )  \n",
    "        fig.append_trace(trace1,1,1)\n",
    "        fig.append_trace(trace2,1,2)\n",
    "        fig.append_trace(trace3,1,2)\n",
    "        fig.append_trace(trace4,2,1)\n",
    "        fig['layout'].update(showlegend=False, title=\"Model performance\",\n",
    "                             autosize=False, height = 900, width = 800,\n",
    "                             plot_bgcolor = 'rgba(240,240,240, 0.95)',\n",
    "                             paper_bgcolor = 'rgba(240,240,240, 0.95)',\n",
    "                             margin = dict(b = 195))\n",
    "        fig[\"layout\"][\"xaxis2\"].update(dict(title = \"false positive rate\"))\n",
    "        fig[\"layout\"][\"yaxis2\"].update(dict(title = \"true positive rate\"))\n",
    "        fig[\"layout\"][\"xaxis3\"].update(dict(showgrid = True, tickfont = dict(size = 10), tickangle = 90))\n",
    "        \n",
    "    elif cf == 'None':\n",
    "        #subplots\n",
    "        fig = make_subplots(rows=1, cols=2,\n",
    "                            subplot_titles=('Confusion matrix',\n",
    "                                            'Receiver operating characteristic')\n",
    "                           )\n",
    "        fig.append_trace(trace1,1,1)\n",
    "        fig.append_trace(trace2,1,2)\n",
    "        fig.append_trace(trace3,1,2)\n",
    "        fig['layout'].update(showlegend=False, title=\"Model performance\",\n",
    "                         autosize=False, height = 500, width = 800,\n",
    "                         plot_bgcolor = 'rgba(240,240,240,0.95)',\n",
    "                         paper_bgcolor = 'rgba(240,240,240,0.95)',\n",
    "                         margin = dict(b = 195))\n",
    "        fig[\"layout\"][\"xaxis2\"].update(dict(title = \"false positive rate\"))\n",
    "        fig[\"layout\"][\"yaxis2\"].update(dict(title = \"true positive rate\"))  \n",
    "        \n",
    "    py.iplot(fig)\n",
    "    \n",
    "    if threshold_plot == True: \n",
    "        visualizer = DiscriminationThreshold(algorithm)\n",
    "        visualizer.fit(training_x,training_y)\n",
    "        visualizer.poof()\n"
   ]
  },
  {
   "cell_type": "markdown",
   "metadata": {},
   "source": [
    "## Feed the parameters to the function created above\n",
    "Split the data into train dataset and test dataset and use the Hyper Parameters obtained above to generate a Logistic Regression instance and execute the function."
   ]
  },
  {
   "cell_type": "code",
   "execution_count": 22,
   "metadata": {},
   "outputs": [
    {
     "data": {
      "text/html": [
       "        <script type=\"text/javascript\">\n",
       "        window.PlotlyConfig = {MathJaxConfig: 'local'};\n",
       "        if (window.MathJax) {MathJax.Hub.Config({SVG: {font: \"STIX-Web\"}});}\n",
       "        if (typeof require !== 'undefined') {\n",
       "        require.undef(\"plotly\");\n",
       "        requirejs.config({\n",
       "            paths: {\n",
       "                'plotly': ['https://cdn.plot.ly/plotly-2.8.3.min']\n",
       "            }\n",
       "        });\n",
       "        require(['plotly'], function(Plotly) {\n",
       "            window._Plotly = Plotly;\n",
       "        });\n",
       "        }\n",
       "        </script>\n",
       "        "
      ]
     },
     "metadata": {},
     "output_type": "display_data"
    },
    {
     "name": "stdout",
     "output_type": "stream",
     "text": [
      "Algorithm: LogisticRegression\n",
      "\n",
      "Classification report:\n",
      "               precision    recall  f1-score   support\n",
      "\n",
      "           0       1.00      0.97      0.99        34\n",
      "           1       0.97      1.00      0.98        29\n",
      "\n",
      "    accuracy                           0.98        63\n",
      "   macro avg       0.98      0.99      0.98        63\n",
      "weighted avg       0.98      0.98      0.98        63\n",
      "\n",
      "Accuracy Score: 0.9841269841269841\n",
      "Area under curve: 0.9852941176470588 \n",
      "\n"
     ]
    },
    {
     "data": {
      "application/vnd.plotly.v1+json": {
       "config": {
        "linkText": "Export to plot.ly",
        "plotlyServerURL": "https://plot.ly",
        "showLink": false
       },
       "data": [
        {
         "colorscale": [
          [
           0,
           "rgb(0,0,255)"
          ],
          [
           0.1,
           "rgb(51,153,255)"
          ],
          [
           0.2,
           "rgb(102,204,255)"
          ],
          [
           0.3,
           "rgb(153,204,255)"
          ],
          [
           0.4,
           "rgb(204,204,255)"
          ],
          [
           0.5,
           "rgb(255,255,255)"
          ],
          [
           0.6,
           "rgb(255,204,255)"
          ],
          [
           0.7,
           "rgb(255,153,255)"
          ],
          [
           0.8,
           "rgb(255,102,204)"
          ],
          [
           0.9,
           "rgb(255,102,102)"
          ],
          [
           1,
           "rgb(255,0,0)"
          ]
         ],
         "name": "Confusion matrix",
         "showscale": false,
         "type": "heatmap",
         "x": [
          "Not B",
          "B"
         ],
         "xaxis": "x",
         "y": [
          "Not B",
          "B"
         ],
         "yaxis": "y",
         "z": [
          [
           33,
           1
          ],
          [
           0,
           29
          ]
         ]
        },
        {
         "line": {
          "color": "rgb(22, 96, 167)",
          "width": 2
         },
         "name": "Roc: 0.9852941176470588",
         "type": "scatter",
         "x": [
          0,
          0,
          0,
          0,
          0,
          0,
          0,
          0,
          0,
          0,
          0,
          0,
          0.14705882352941177,
          0.20588235294117646,
          0.29411764705882354,
          0.9411764705882353,
          1
         ],
         "xaxis": "x2",
         "y": [
          0,
          0.10344827586206896,
          0.2413793103448276,
          0.3103448275862069,
          0.3448275862068966,
          0.4482758620689655,
          0.5172413793103449,
          0.5517241379310345,
          0.6206896551724138,
          0.6896551724137931,
          0.8620689655172413,
          1,
          1,
          1,
          1,
          1,
          1
         ],
         "yaxis": "y2"
        },
        {
         "line": {
          "color": "rgb(205, 12, 24)",
          "dash": "dot",
          "width": 2
         },
         "type": "scatter",
         "x": [
          0,
          1
         ],
         "xaxis": "x2",
         "y": [
          0,
          1
         ],
         "yaxis": "y2"
        },
        {
         "marker": {
          "color": [
           1.0382205016903119,
           0.7718948028828845,
           0.6406783833470634,
           0.1940026398680466,
           0.11295305788894458,
           0.0387366580383068,
           -0.05548791973387482,
           -0.16865597346002015,
           -0.16930533772853623,
           -0.18621620352782364,
           -0.22516785740333128,
           -0.2666164212384097,
           -0.27541709620234345,
           -0.44616495340058,
           -0.49052721040256514,
           -0.5232867115792188,
           -0.6071804062436197,
           -0.833974667388632
          ],
          "colorscale": [
           [
            0,
            "rgb(0,0,255)"
           ],
           [
            0.1,
            "rgb(51,153,255)"
           ],
           [
            0.2,
            "rgb(102,204,255)"
           ],
           [
            0.3,
            "rgb(153,204,255)"
           ],
           [
            0.4,
            "rgb(204,204,255)"
           ],
           [
            0.5,
            "rgb(255,255,255)"
           ],
           [
            0.6,
            "rgb(255,204,255)"
           ],
           [
            0.7,
            "rgb(255,153,255)"
           ],
           [
            0.8,
            "rgb(255,102,204)"
           ],
           [
            0.9,
            "rgb(255,102,102)"
           ],
           [
            1,
            "rgb(255,0,0)"
           ]
          ],
          "line": {
           "color": "black",
           "width": 0.6
          }
         },
         "name": "coefficients",
         "type": "bar",
         "x": [
          "Competitiveness_N",
          "Financial Flexibility_N",
          "Credibility_N",
          "Management Risk_N",
          "Industrial Risk_N",
          "Operating Risk_N",
          "Operating Risk_A",
          "Industrial Risk_P",
          "Management Risk_A",
          "Industrial Risk_A",
          "Operating Risk_P",
          "Management Risk_P",
          "Credibility_A",
          "Competitiveness_A",
          "Financial Flexibility_P",
          "Financial Flexibility_A",
          "Credibility_P",
          "Competitiveness_P"
         ],
         "xaxis": "x3",
         "y": [
          1.0382205016903119,
          0.7718948028828845,
          0.6406783833470634,
          0.1940026398680466,
          0.11295305788894458,
          0.0387366580383068,
          -0.05548791973387482,
          -0.16865597346002015,
          -0.16930533772853623,
          -0.18621620352782364,
          -0.22516785740333128,
          -0.2666164212384097,
          -0.27541709620234345,
          -0.44616495340058,
          -0.49052721040256514,
          -0.5232867115792188,
          -0.6071804062436197,
          -0.833974667388632
         ],
         "yaxis": "y3"
        }
       ],
       "layout": {
        "annotations": [
         {
          "font": {
           "size": 16
          },
          "showarrow": false,
          "text": "Confusion matrix",
          "x": 0.225,
          "xanchor": "center",
          "xref": "paper",
          "y": 1,
          "yanchor": "bottom",
          "yref": "paper"
         },
         {
          "font": {
           "size": 16
          },
          "showarrow": false,
          "text": "Receiver operating characteristic",
          "x": 0.775,
          "xanchor": "center",
          "xref": "paper",
          "y": 1,
          "yanchor": "bottom",
          "yref": "paper"
         },
         {
          "font": {
           "size": 16
          },
          "showarrow": false,
          "text": "Feature importances",
          "x": 0.5,
          "xanchor": "center",
          "xref": "paper",
          "y": 0.375,
          "yanchor": "bottom",
          "yref": "paper"
         }
        ],
        "autosize": false,
        "height": 900,
        "margin": {
         "b": 195
        },
        "paper_bgcolor": "rgba(240,240,240, 0.95)",
        "plot_bgcolor": "rgba(240,240,240, 0.95)",
        "showlegend": false,
        "template": {
         "data": {
          "bar": [
           {
            "error_x": {
             "color": "#2a3f5f"
            },
            "error_y": {
             "color": "#2a3f5f"
            },
            "marker": {
             "line": {
              "color": "#E5ECF6",
              "width": 0.5
             },
             "pattern": {
              "fillmode": "overlay",
              "size": 10,
              "solidity": 0.2
             }
            },
            "type": "bar"
           }
          ],
          "barpolar": [
           {
            "marker": {
             "line": {
              "color": "#E5ECF6",
              "width": 0.5
             },
             "pattern": {
              "fillmode": "overlay",
              "size": 10,
              "solidity": 0.2
             }
            },
            "type": "barpolar"
           }
          ],
          "carpet": [
           {
            "aaxis": {
             "endlinecolor": "#2a3f5f",
             "gridcolor": "white",
             "linecolor": "white",
             "minorgridcolor": "white",
             "startlinecolor": "#2a3f5f"
            },
            "baxis": {
             "endlinecolor": "#2a3f5f",
             "gridcolor": "white",
             "linecolor": "white",
             "minorgridcolor": "white",
             "startlinecolor": "#2a3f5f"
            },
            "type": "carpet"
           }
          ],
          "choropleth": [
           {
            "colorbar": {
             "outlinewidth": 0,
             "ticks": ""
            },
            "type": "choropleth"
           }
          ],
          "contour": [
           {
            "colorbar": {
             "outlinewidth": 0,
             "ticks": ""
            },
            "colorscale": [
             [
              0,
              "#0d0887"
             ],
             [
              0.1111111111111111,
              "#46039f"
             ],
             [
              0.2222222222222222,
              "#7201a8"
             ],
             [
              0.3333333333333333,
              "#9c179e"
             ],
             [
              0.4444444444444444,
              "#bd3786"
             ],
             [
              0.5555555555555556,
              "#d8576b"
             ],
             [
              0.6666666666666666,
              "#ed7953"
             ],
             [
              0.7777777777777778,
              "#fb9f3a"
             ],
             [
              0.8888888888888888,
              "#fdca26"
             ],
             [
              1,
              "#f0f921"
             ]
            ],
            "type": "contour"
           }
          ],
          "contourcarpet": [
           {
            "colorbar": {
             "outlinewidth": 0,
             "ticks": ""
            },
            "type": "contourcarpet"
           }
          ],
          "heatmap": [
           {
            "colorbar": {
             "outlinewidth": 0,
             "ticks": ""
            },
            "colorscale": [
             [
              0,
              "#0d0887"
             ],
             [
              0.1111111111111111,
              "#46039f"
             ],
             [
              0.2222222222222222,
              "#7201a8"
             ],
             [
              0.3333333333333333,
              "#9c179e"
             ],
             [
              0.4444444444444444,
              "#bd3786"
             ],
             [
              0.5555555555555556,
              "#d8576b"
             ],
             [
              0.6666666666666666,
              "#ed7953"
             ],
             [
              0.7777777777777778,
              "#fb9f3a"
             ],
             [
              0.8888888888888888,
              "#fdca26"
             ],
             [
              1,
              "#f0f921"
             ]
            ],
            "type": "heatmap"
           }
          ],
          "heatmapgl": [
           {
            "colorbar": {
             "outlinewidth": 0,
             "ticks": ""
            },
            "colorscale": [
             [
              0,
              "#0d0887"
             ],
             [
              0.1111111111111111,
              "#46039f"
             ],
             [
              0.2222222222222222,
              "#7201a8"
             ],
             [
              0.3333333333333333,
              "#9c179e"
             ],
             [
              0.4444444444444444,
              "#bd3786"
             ],
             [
              0.5555555555555556,
              "#d8576b"
             ],
             [
              0.6666666666666666,
              "#ed7953"
             ],
             [
              0.7777777777777778,
              "#fb9f3a"
             ],
             [
              0.8888888888888888,
              "#fdca26"
             ],
             [
              1,
              "#f0f921"
             ]
            ],
            "type": "heatmapgl"
           }
          ],
          "histogram": [
           {
            "marker": {
             "pattern": {
              "fillmode": "overlay",
              "size": 10,
              "solidity": 0.2
             }
            },
            "type": "histogram"
           }
          ],
          "histogram2d": [
           {
            "colorbar": {
             "outlinewidth": 0,
             "ticks": ""
            },
            "colorscale": [
             [
              0,
              "#0d0887"
             ],
             [
              0.1111111111111111,
              "#46039f"
             ],
             [
              0.2222222222222222,
              "#7201a8"
             ],
             [
              0.3333333333333333,
              "#9c179e"
             ],
             [
              0.4444444444444444,
              "#bd3786"
             ],
             [
              0.5555555555555556,
              "#d8576b"
             ],
             [
              0.6666666666666666,
              "#ed7953"
             ],
             [
              0.7777777777777778,
              "#fb9f3a"
             ],
             [
              0.8888888888888888,
              "#fdca26"
             ],
             [
              1,
              "#f0f921"
             ]
            ],
            "type": "histogram2d"
           }
          ],
          "histogram2dcontour": [
           {
            "colorbar": {
             "outlinewidth": 0,
             "ticks": ""
            },
            "colorscale": [
             [
              0,
              "#0d0887"
             ],
             [
              0.1111111111111111,
              "#46039f"
             ],
             [
              0.2222222222222222,
              "#7201a8"
             ],
             [
              0.3333333333333333,
              "#9c179e"
             ],
             [
              0.4444444444444444,
              "#bd3786"
             ],
             [
              0.5555555555555556,
              "#d8576b"
             ],
             [
              0.6666666666666666,
              "#ed7953"
             ],
             [
              0.7777777777777778,
              "#fb9f3a"
             ],
             [
              0.8888888888888888,
              "#fdca26"
             ],
             [
              1,
              "#f0f921"
             ]
            ],
            "type": "histogram2dcontour"
           }
          ],
          "mesh3d": [
           {
            "colorbar": {
             "outlinewidth": 0,
             "ticks": ""
            },
            "type": "mesh3d"
           }
          ],
          "parcoords": [
           {
            "line": {
             "colorbar": {
              "outlinewidth": 0,
              "ticks": ""
             }
            },
            "type": "parcoords"
           }
          ],
          "pie": [
           {
            "automargin": true,
            "type": "pie"
           }
          ],
          "scatter": [
           {
            "marker": {
             "colorbar": {
              "outlinewidth": 0,
              "ticks": ""
             }
            },
            "type": "scatter"
           }
          ],
          "scatter3d": [
           {
            "line": {
             "colorbar": {
              "outlinewidth": 0,
              "ticks": ""
             }
            },
            "marker": {
             "colorbar": {
              "outlinewidth": 0,
              "ticks": ""
             }
            },
            "type": "scatter3d"
           }
          ],
          "scattercarpet": [
           {
            "marker": {
             "colorbar": {
              "outlinewidth": 0,
              "ticks": ""
             }
            },
            "type": "scattercarpet"
           }
          ],
          "scattergeo": [
           {
            "marker": {
             "colorbar": {
              "outlinewidth": 0,
              "ticks": ""
             }
            },
            "type": "scattergeo"
           }
          ],
          "scattergl": [
           {
            "marker": {
             "colorbar": {
              "outlinewidth": 0,
              "ticks": ""
             }
            },
            "type": "scattergl"
           }
          ],
          "scattermapbox": [
           {
            "marker": {
             "colorbar": {
              "outlinewidth": 0,
              "ticks": ""
             }
            },
            "type": "scattermapbox"
           }
          ],
          "scatterpolar": [
           {
            "marker": {
             "colorbar": {
              "outlinewidth": 0,
              "ticks": ""
             }
            },
            "type": "scatterpolar"
           }
          ],
          "scatterpolargl": [
           {
            "marker": {
             "colorbar": {
              "outlinewidth": 0,
              "ticks": ""
             }
            },
            "type": "scatterpolargl"
           }
          ],
          "scatterternary": [
           {
            "marker": {
             "colorbar": {
              "outlinewidth": 0,
              "ticks": ""
             }
            },
            "type": "scatterternary"
           }
          ],
          "surface": [
           {
            "colorbar": {
             "outlinewidth": 0,
             "ticks": ""
            },
            "colorscale": [
             [
              0,
              "#0d0887"
             ],
             [
              0.1111111111111111,
              "#46039f"
             ],
             [
              0.2222222222222222,
              "#7201a8"
             ],
             [
              0.3333333333333333,
              "#9c179e"
             ],
             [
              0.4444444444444444,
              "#bd3786"
             ],
             [
              0.5555555555555556,
              "#d8576b"
             ],
             [
              0.6666666666666666,
              "#ed7953"
             ],
             [
              0.7777777777777778,
              "#fb9f3a"
             ],
             [
              0.8888888888888888,
              "#fdca26"
             ],
             [
              1,
              "#f0f921"
             ]
            ],
            "type": "surface"
           }
          ],
          "table": [
           {
            "cells": {
             "fill": {
              "color": "#EBF0F8"
             },
             "line": {
              "color": "white"
             }
            },
            "header": {
             "fill": {
              "color": "#C8D4E3"
             },
             "line": {
              "color": "white"
             }
            },
            "type": "table"
           }
          ]
         },
         "layout": {
          "annotationdefaults": {
           "arrowcolor": "#2a3f5f",
           "arrowhead": 0,
           "arrowwidth": 1
          },
          "autotypenumbers": "strict",
          "coloraxis": {
           "colorbar": {
            "outlinewidth": 0,
            "ticks": ""
           }
          },
          "colorscale": {
           "diverging": [
            [
             0,
             "#8e0152"
            ],
            [
             0.1,
             "#c51b7d"
            ],
            [
             0.2,
             "#de77ae"
            ],
            [
             0.3,
             "#f1b6da"
            ],
            [
             0.4,
             "#fde0ef"
            ],
            [
             0.5,
             "#f7f7f7"
            ],
            [
             0.6,
             "#e6f5d0"
            ],
            [
             0.7,
             "#b8e186"
            ],
            [
             0.8,
             "#7fbc41"
            ],
            [
             0.9,
             "#4d9221"
            ],
            [
             1,
             "#276419"
            ]
           ],
           "sequential": [
            [
             0,
             "#0d0887"
            ],
            [
             0.1111111111111111,
             "#46039f"
            ],
            [
             0.2222222222222222,
             "#7201a8"
            ],
            [
             0.3333333333333333,
             "#9c179e"
            ],
            [
             0.4444444444444444,
             "#bd3786"
            ],
            [
             0.5555555555555556,
             "#d8576b"
            ],
            [
             0.6666666666666666,
             "#ed7953"
            ],
            [
             0.7777777777777778,
             "#fb9f3a"
            ],
            [
             0.8888888888888888,
             "#fdca26"
            ],
            [
             1,
             "#f0f921"
            ]
           ],
           "sequentialminus": [
            [
             0,
             "#0d0887"
            ],
            [
             0.1111111111111111,
             "#46039f"
            ],
            [
             0.2222222222222222,
             "#7201a8"
            ],
            [
             0.3333333333333333,
             "#9c179e"
            ],
            [
             0.4444444444444444,
             "#bd3786"
            ],
            [
             0.5555555555555556,
             "#d8576b"
            ],
            [
             0.6666666666666666,
             "#ed7953"
            ],
            [
             0.7777777777777778,
             "#fb9f3a"
            ],
            [
             0.8888888888888888,
             "#fdca26"
            ],
            [
             1,
             "#f0f921"
            ]
           ]
          },
          "colorway": [
           "#636efa",
           "#EF553B",
           "#00cc96",
           "#ab63fa",
           "#FFA15A",
           "#19d3f3",
           "#FF6692",
           "#B6E880",
           "#FF97FF",
           "#FECB52"
          ],
          "font": {
           "color": "#2a3f5f"
          },
          "geo": {
           "bgcolor": "white",
           "lakecolor": "white",
           "landcolor": "#E5ECF6",
           "showlakes": true,
           "showland": true,
           "subunitcolor": "white"
          },
          "hoverlabel": {
           "align": "left"
          },
          "hovermode": "closest",
          "mapbox": {
           "style": "light"
          },
          "paper_bgcolor": "white",
          "plot_bgcolor": "#E5ECF6",
          "polar": {
           "angularaxis": {
            "gridcolor": "white",
            "linecolor": "white",
            "ticks": ""
           },
           "bgcolor": "#E5ECF6",
           "radialaxis": {
            "gridcolor": "white",
            "linecolor": "white",
            "ticks": ""
           }
          },
          "scene": {
           "xaxis": {
            "backgroundcolor": "#E5ECF6",
            "gridcolor": "white",
            "gridwidth": 2,
            "linecolor": "white",
            "showbackground": true,
            "ticks": "",
            "zerolinecolor": "white"
           },
           "yaxis": {
            "backgroundcolor": "#E5ECF6",
            "gridcolor": "white",
            "gridwidth": 2,
            "linecolor": "white",
            "showbackground": true,
            "ticks": "",
            "zerolinecolor": "white"
           },
           "zaxis": {
            "backgroundcolor": "#E5ECF6",
            "gridcolor": "white",
            "gridwidth": 2,
            "linecolor": "white",
            "showbackground": true,
            "ticks": "",
            "zerolinecolor": "white"
           }
          },
          "shapedefaults": {
           "line": {
            "color": "#2a3f5f"
           }
          },
          "ternary": {
           "aaxis": {
            "gridcolor": "white",
            "linecolor": "white",
            "ticks": ""
           },
           "baxis": {
            "gridcolor": "white",
            "linecolor": "white",
            "ticks": ""
           },
           "bgcolor": "#E5ECF6",
           "caxis": {
            "gridcolor": "white",
            "linecolor": "white",
            "ticks": ""
           }
          },
          "title": {
           "x": 0.05
          },
          "xaxis": {
           "automargin": true,
           "gridcolor": "white",
           "linecolor": "white",
           "ticks": "",
           "title": {
            "standoff": 15
           },
           "zerolinecolor": "white",
           "zerolinewidth": 2
          },
          "yaxis": {
           "automargin": true,
           "gridcolor": "white",
           "linecolor": "white",
           "ticks": "",
           "title": {
            "standoff": 15
           },
           "zerolinecolor": "white",
           "zerolinewidth": 2
          }
         }
        },
        "title": {
         "text": "Model performance"
        },
        "width": 800,
        "xaxis": {
         "anchor": "y",
         "domain": [
          0,
          0.45
         ]
        },
        "xaxis2": {
         "anchor": "y2",
         "domain": [
          0.55,
          1
         ],
         "title": {
          "text": "false positive rate"
         }
        },
        "xaxis3": {
         "anchor": "y3",
         "domain": [
          0,
          1
         ],
         "showgrid": true,
         "tickangle": 90,
         "tickfont": {
          "size": 10
         }
        },
        "yaxis": {
         "anchor": "x",
         "domain": [
          0.625,
          1
         ]
        },
        "yaxis2": {
         "anchor": "x2",
         "domain": [
          0.625,
          1
         ],
         "title": {
          "text": "true positive rate"
         }
        },
        "yaxis3": {
         "anchor": "x3",
         "domain": [
          0,
          0.375
         ]
        }
       }
      },
      "text/html": [
       "<div>                            <div id=\"7f96bf19-8fde-413b-b50e-38f8e71622b9\" class=\"plotly-graph-div\" style=\"height:900px; width:800px;\"></div>            <script type=\"text/javascript\">                require([\"plotly\"], function(Plotly) {                    window.PLOTLYENV=window.PLOTLYENV || {};                                    if (document.getElementById(\"7f96bf19-8fde-413b-b50e-38f8e71622b9\")) {                    Plotly.newPlot(                        \"7f96bf19-8fde-413b-b50e-38f8e71622b9\",                        [{\"colorscale\":[[0.0,\"rgb(0,0,255)\"],[0.1,\"rgb(51,153,255)\"],[0.2,\"rgb(102,204,255)\"],[0.3,\"rgb(153,204,255)\"],[0.4,\"rgb(204,204,255)\"],[0.5,\"rgb(255,255,255)\"],[0.6,\"rgb(255,204,255)\"],[0.7,\"rgb(255,153,255)\"],[0.8,\"rgb(255,102,204)\"],[0.9,\"rgb(255,102,102)\"],[1.0,\"rgb(255,0,0)\"]],\"name\":\"Confusion matrix\",\"showscale\":false,\"x\":[\"Not B\",\"B\"],\"xaxis\":\"x\",\"y\":[\"Not B\",\"B\"],\"yaxis\":\"y\",\"z\":[[33,1],[0,29]],\"type\":\"heatmap\"},{\"line\":{\"color\":\"rgb(22, 96, 167)\",\"width\":2},\"name\":\"Roc: 0.9852941176470588\",\"x\":[0.0,0.0,0.0,0.0,0.0,0.0,0.0,0.0,0.0,0.0,0.0,0.0,0.14705882352941177,0.20588235294117646,0.29411764705882354,0.9411764705882353,1.0],\"xaxis\":\"x2\",\"y\":[0.0,0.10344827586206896,0.2413793103448276,0.3103448275862069,0.3448275862068966,0.4482758620689655,0.5172413793103449,0.5517241379310345,0.6206896551724138,0.6896551724137931,0.8620689655172413,1.0,1.0,1.0,1.0,1.0,1.0],\"yaxis\":\"y2\",\"type\":\"scatter\"},{\"line\":{\"color\":\"rgb(205, 12, 24)\",\"dash\":\"dot\",\"width\":2},\"x\":[0,1],\"xaxis\":\"x2\",\"y\":[0,1],\"yaxis\":\"y2\",\"type\":\"scatter\"},{\"marker\":{\"color\":[1.0382205016903119,0.7718948028828845,0.6406783833470634,0.1940026398680466,0.11295305788894458,0.0387366580383068,-0.05548791973387482,-0.16865597346002015,-0.16930533772853623,-0.18621620352782364,-0.22516785740333128,-0.2666164212384097,-0.27541709620234345,-0.44616495340058,-0.49052721040256514,-0.5232867115792188,-0.6071804062436197,-0.833974667388632],\"colorscale\":[[0.0,\"rgb(0,0,255)\"],[0.1,\"rgb(51,153,255)\"],[0.2,\"rgb(102,204,255)\"],[0.3,\"rgb(153,204,255)\"],[0.4,\"rgb(204,204,255)\"],[0.5,\"rgb(255,255,255)\"],[0.6,\"rgb(255,204,255)\"],[0.7,\"rgb(255,153,255)\"],[0.8,\"rgb(255,102,204)\"],[0.9,\"rgb(255,102,102)\"],[1.0,\"rgb(255,0,0)\"]],\"line\":{\"color\":\"black\",\"width\":0.6}},\"name\":\"coefficients\",\"x\":[\"Competitiveness_N\",\"Financial Flexibility_N\",\"Credibility_N\",\"Management Risk_N\",\"Industrial Risk_N\",\"Operating Risk_N\",\"Operating Risk_A\",\"Industrial Risk_P\",\"Management Risk_A\",\"Industrial Risk_A\",\"Operating Risk_P\",\"Management Risk_P\",\"Credibility_A\",\"Competitiveness_A\",\"Financial Flexibility_P\",\"Financial Flexibility_A\",\"Credibility_P\",\"Competitiveness_P\"],\"xaxis\":\"x3\",\"y\":[1.0382205016903119,0.7718948028828845,0.6406783833470634,0.1940026398680466,0.11295305788894458,0.0387366580383068,-0.05548791973387482,-0.16865597346002015,-0.16930533772853623,-0.18621620352782364,-0.22516785740333128,-0.2666164212384097,-0.27541709620234345,-0.44616495340058,-0.49052721040256514,-0.5232867115792188,-0.6071804062436197,-0.833974667388632],\"yaxis\":\"y3\",\"type\":\"bar\"}],                        {\"annotations\":[{\"font\":{\"size\":16},\"showarrow\":false,\"text\":\"Confusion matrix\",\"x\":0.225,\"xanchor\":\"center\",\"xref\":\"paper\",\"y\":1.0,\"yanchor\":\"bottom\",\"yref\":\"paper\"},{\"font\":{\"size\":16},\"showarrow\":false,\"text\":\"Receiver operating characteristic\",\"x\":0.775,\"xanchor\":\"center\",\"xref\":\"paper\",\"y\":1.0,\"yanchor\":\"bottom\",\"yref\":\"paper\"},{\"font\":{\"size\":16},\"showarrow\":false,\"text\":\"Feature importances\",\"x\":0.5,\"xanchor\":\"center\",\"xref\":\"paper\",\"y\":0.375,\"yanchor\":\"bottom\",\"yref\":\"paper\"}],\"autosize\":false,\"height\":900,\"margin\":{\"b\":195},\"paper_bgcolor\":\"rgba(240,240,240, 0.95)\",\"plot_bgcolor\":\"rgba(240,240,240, 0.95)\",\"showlegend\":false,\"template\":{\"data\":{\"barpolar\":[{\"marker\":{\"line\":{\"color\":\"#E5ECF6\",\"width\":0.5},\"pattern\":{\"fillmode\":\"overlay\",\"size\":10,\"solidity\":0.2}},\"type\":\"barpolar\"}],\"bar\":[{\"error_x\":{\"color\":\"#2a3f5f\"},\"error_y\":{\"color\":\"#2a3f5f\"},\"marker\":{\"line\":{\"color\":\"#E5ECF6\",\"width\":0.5},\"pattern\":{\"fillmode\":\"overlay\",\"size\":10,\"solidity\":0.2}},\"type\":\"bar\"}],\"carpet\":[{\"aaxis\":{\"endlinecolor\":\"#2a3f5f\",\"gridcolor\":\"white\",\"linecolor\":\"white\",\"minorgridcolor\":\"white\",\"startlinecolor\":\"#2a3f5f\"},\"baxis\":{\"endlinecolor\":\"#2a3f5f\",\"gridcolor\":\"white\",\"linecolor\":\"white\",\"minorgridcolor\":\"white\",\"startlinecolor\":\"#2a3f5f\"},\"type\":\"carpet\"}],\"choropleth\":[{\"colorbar\":{\"outlinewidth\":0,\"ticks\":\"\"},\"type\":\"choropleth\"}],\"contourcarpet\":[{\"colorbar\":{\"outlinewidth\":0,\"ticks\":\"\"},\"type\":\"contourcarpet\"}],\"contour\":[{\"colorbar\":{\"outlinewidth\":0,\"ticks\":\"\"},\"colorscale\":[[0.0,\"#0d0887\"],[0.1111111111111111,\"#46039f\"],[0.2222222222222222,\"#7201a8\"],[0.3333333333333333,\"#9c179e\"],[0.4444444444444444,\"#bd3786\"],[0.5555555555555556,\"#d8576b\"],[0.6666666666666666,\"#ed7953\"],[0.7777777777777778,\"#fb9f3a\"],[0.8888888888888888,\"#fdca26\"],[1.0,\"#f0f921\"]],\"type\":\"contour\"}],\"heatmapgl\":[{\"colorbar\":{\"outlinewidth\":0,\"ticks\":\"\"},\"colorscale\":[[0.0,\"#0d0887\"],[0.1111111111111111,\"#46039f\"],[0.2222222222222222,\"#7201a8\"],[0.3333333333333333,\"#9c179e\"],[0.4444444444444444,\"#bd3786\"],[0.5555555555555556,\"#d8576b\"],[0.6666666666666666,\"#ed7953\"],[0.7777777777777778,\"#fb9f3a\"],[0.8888888888888888,\"#fdca26\"],[1.0,\"#f0f921\"]],\"type\":\"heatmapgl\"}],\"heatmap\":[{\"colorbar\":{\"outlinewidth\":0,\"ticks\":\"\"},\"colorscale\":[[0.0,\"#0d0887\"],[0.1111111111111111,\"#46039f\"],[0.2222222222222222,\"#7201a8\"],[0.3333333333333333,\"#9c179e\"],[0.4444444444444444,\"#bd3786\"],[0.5555555555555556,\"#d8576b\"],[0.6666666666666666,\"#ed7953\"],[0.7777777777777778,\"#fb9f3a\"],[0.8888888888888888,\"#fdca26\"],[1.0,\"#f0f921\"]],\"type\":\"heatmap\"}],\"histogram2dcontour\":[{\"colorbar\":{\"outlinewidth\":0,\"ticks\":\"\"},\"colorscale\":[[0.0,\"#0d0887\"],[0.1111111111111111,\"#46039f\"],[0.2222222222222222,\"#7201a8\"],[0.3333333333333333,\"#9c179e\"],[0.4444444444444444,\"#bd3786\"],[0.5555555555555556,\"#d8576b\"],[0.6666666666666666,\"#ed7953\"],[0.7777777777777778,\"#fb9f3a\"],[0.8888888888888888,\"#fdca26\"],[1.0,\"#f0f921\"]],\"type\":\"histogram2dcontour\"}],\"histogram2d\":[{\"colorbar\":{\"outlinewidth\":0,\"ticks\":\"\"},\"colorscale\":[[0.0,\"#0d0887\"],[0.1111111111111111,\"#46039f\"],[0.2222222222222222,\"#7201a8\"],[0.3333333333333333,\"#9c179e\"],[0.4444444444444444,\"#bd3786\"],[0.5555555555555556,\"#d8576b\"],[0.6666666666666666,\"#ed7953\"],[0.7777777777777778,\"#fb9f3a\"],[0.8888888888888888,\"#fdca26\"],[1.0,\"#f0f921\"]],\"type\":\"histogram2d\"}],\"histogram\":[{\"marker\":{\"pattern\":{\"fillmode\":\"overlay\",\"size\":10,\"solidity\":0.2}},\"type\":\"histogram\"}],\"mesh3d\":[{\"colorbar\":{\"outlinewidth\":0,\"ticks\":\"\"},\"type\":\"mesh3d\"}],\"parcoords\":[{\"line\":{\"colorbar\":{\"outlinewidth\":0,\"ticks\":\"\"}},\"type\":\"parcoords\"}],\"pie\":[{\"automargin\":true,\"type\":\"pie\"}],\"scatter3d\":[{\"line\":{\"colorbar\":{\"outlinewidth\":0,\"ticks\":\"\"}},\"marker\":{\"colorbar\":{\"outlinewidth\":0,\"ticks\":\"\"}},\"type\":\"scatter3d\"}],\"scattercarpet\":[{\"marker\":{\"colorbar\":{\"outlinewidth\":0,\"ticks\":\"\"}},\"type\":\"scattercarpet\"}],\"scattergeo\":[{\"marker\":{\"colorbar\":{\"outlinewidth\":0,\"ticks\":\"\"}},\"type\":\"scattergeo\"}],\"scattergl\":[{\"marker\":{\"colorbar\":{\"outlinewidth\":0,\"ticks\":\"\"}},\"type\":\"scattergl\"}],\"scattermapbox\":[{\"marker\":{\"colorbar\":{\"outlinewidth\":0,\"ticks\":\"\"}},\"type\":\"scattermapbox\"}],\"scatterpolargl\":[{\"marker\":{\"colorbar\":{\"outlinewidth\":0,\"ticks\":\"\"}},\"type\":\"scatterpolargl\"}],\"scatterpolar\":[{\"marker\":{\"colorbar\":{\"outlinewidth\":0,\"ticks\":\"\"}},\"type\":\"scatterpolar\"}],\"scatter\":[{\"marker\":{\"colorbar\":{\"outlinewidth\":0,\"ticks\":\"\"}},\"type\":\"scatter\"}],\"scatterternary\":[{\"marker\":{\"colorbar\":{\"outlinewidth\":0,\"ticks\":\"\"}},\"type\":\"scatterternary\"}],\"surface\":[{\"colorbar\":{\"outlinewidth\":0,\"ticks\":\"\"},\"colorscale\":[[0.0,\"#0d0887\"],[0.1111111111111111,\"#46039f\"],[0.2222222222222222,\"#7201a8\"],[0.3333333333333333,\"#9c179e\"],[0.4444444444444444,\"#bd3786\"],[0.5555555555555556,\"#d8576b\"],[0.6666666666666666,\"#ed7953\"],[0.7777777777777778,\"#fb9f3a\"],[0.8888888888888888,\"#fdca26\"],[1.0,\"#f0f921\"]],\"type\":\"surface\"}],\"table\":[{\"cells\":{\"fill\":{\"color\":\"#EBF0F8\"},\"line\":{\"color\":\"white\"}},\"header\":{\"fill\":{\"color\":\"#C8D4E3\"},\"line\":{\"color\":\"white\"}},\"type\":\"table\"}]},\"layout\":{\"annotationdefaults\":{\"arrowcolor\":\"#2a3f5f\",\"arrowhead\":0,\"arrowwidth\":1},\"autotypenumbers\":\"strict\",\"coloraxis\":{\"colorbar\":{\"outlinewidth\":0,\"ticks\":\"\"}},\"colorscale\":{\"diverging\":[[0,\"#8e0152\"],[0.1,\"#c51b7d\"],[0.2,\"#de77ae\"],[0.3,\"#f1b6da\"],[0.4,\"#fde0ef\"],[0.5,\"#f7f7f7\"],[0.6,\"#e6f5d0\"],[0.7,\"#b8e186\"],[0.8,\"#7fbc41\"],[0.9,\"#4d9221\"],[1,\"#276419\"]],\"sequential\":[[0.0,\"#0d0887\"],[0.1111111111111111,\"#46039f\"],[0.2222222222222222,\"#7201a8\"],[0.3333333333333333,\"#9c179e\"],[0.4444444444444444,\"#bd3786\"],[0.5555555555555556,\"#d8576b\"],[0.6666666666666666,\"#ed7953\"],[0.7777777777777778,\"#fb9f3a\"],[0.8888888888888888,\"#fdca26\"],[1.0,\"#f0f921\"]],\"sequentialminus\":[[0.0,\"#0d0887\"],[0.1111111111111111,\"#46039f\"],[0.2222222222222222,\"#7201a8\"],[0.3333333333333333,\"#9c179e\"],[0.4444444444444444,\"#bd3786\"],[0.5555555555555556,\"#d8576b\"],[0.6666666666666666,\"#ed7953\"],[0.7777777777777778,\"#fb9f3a\"],[0.8888888888888888,\"#fdca26\"],[1.0,\"#f0f921\"]]},\"colorway\":[\"#636efa\",\"#EF553B\",\"#00cc96\",\"#ab63fa\",\"#FFA15A\",\"#19d3f3\",\"#FF6692\",\"#B6E880\",\"#FF97FF\",\"#FECB52\"],\"font\":{\"color\":\"#2a3f5f\"},\"geo\":{\"bgcolor\":\"white\",\"lakecolor\":\"white\",\"landcolor\":\"#E5ECF6\",\"showlakes\":true,\"showland\":true,\"subunitcolor\":\"white\"},\"hoverlabel\":{\"align\":\"left\"},\"hovermode\":\"closest\",\"mapbox\":{\"style\":\"light\"},\"paper_bgcolor\":\"white\",\"plot_bgcolor\":\"#E5ECF6\",\"polar\":{\"angularaxis\":{\"gridcolor\":\"white\",\"linecolor\":\"white\",\"ticks\":\"\"},\"bgcolor\":\"#E5ECF6\",\"radialaxis\":{\"gridcolor\":\"white\",\"linecolor\":\"white\",\"ticks\":\"\"}},\"scene\":{\"xaxis\":{\"backgroundcolor\":\"#E5ECF6\",\"gridcolor\":\"white\",\"gridwidth\":2,\"linecolor\":\"white\",\"showbackground\":true,\"ticks\":\"\",\"zerolinecolor\":\"white\"},\"yaxis\":{\"backgroundcolor\":\"#E5ECF6\",\"gridcolor\":\"white\",\"gridwidth\":2,\"linecolor\":\"white\",\"showbackground\":true,\"ticks\":\"\",\"zerolinecolor\":\"white\"},\"zaxis\":{\"backgroundcolor\":\"#E5ECF6\",\"gridcolor\":\"white\",\"gridwidth\":2,\"linecolor\":\"white\",\"showbackground\":true,\"ticks\":\"\",\"zerolinecolor\":\"white\"}},\"shapedefaults\":{\"line\":{\"color\":\"#2a3f5f\"}},\"ternary\":{\"aaxis\":{\"gridcolor\":\"white\",\"linecolor\":\"white\",\"ticks\":\"\"},\"baxis\":{\"gridcolor\":\"white\",\"linecolor\":\"white\",\"ticks\":\"\"},\"bgcolor\":\"#E5ECF6\",\"caxis\":{\"gridcolor\":\"white\",\"linecolor\":\"white\",\"ticks\":\"\"}},\"title\":{\"x\":0.05},\"xaxis\":{\"automargin\":true,\"gridcolor\":\"white\",\"linecolor\":\"white\",\"ticks\":\"\",\"title\":{\"standoff\":15},\"zerolinecolor\":\"white\",\"zerolinewidth\":2},\"yaxis\":{\"automargin\":true,\"gridcolor\":\"white\",\"linecolor\":\"white\",\"ticks\":\"\",\"title\":{\"standoff\":15},\"zerolinecolor\":\"white\",\"zerolinewidth\":2}}},\"title\":{\"text\":\"Model performance\"},\"width\":800,\"xaxis\":{\"anchor\":\"y\",\"domain\":[0.0,0.45]},\"yaxis\":{\"anchor\":\"x\",\"domain\":[0.625,1.0]},\"xaxis2\":{\"anchor\":\"y2\",\"domain\":[0.55,1.0],\"title\":{\"text\":\"false positive rate\"}},\"yaxis2\":{\"anchor\":\"x2\",\"domain\":[0.625,1.0],\"title\":{\"text\":\"true positive rate\"}},\"xaxis3\":{\"anchor\":\"y3\",\"domain\":[0.0,1.0],\"showgrid\":true,\"tickangle\":90,\"tickfont\":{\"size\":10}},\"yaxis3\":{\"anchor\":\"x3\",\"domain\":[0.0,0.375]}},                        {\"responsive\": true}                    ).then(function(){\n",
       "                            \n",
       "var gd = document.getElementById('7f96bf19-8fde-413b-b50e-38f8e71622b9');\n",
       "var x = new MutationObserver(function (mutations, observer) {{\n",
       "        var display = window.getComputedStyle(gd).display;\n",
       "        if (!display || display === 'none') {{\n",
       "            console.log([gd, 'removed!']);\n",
       "            Plotly.purge(gd);\n",
       "            observer.disconnect();\n",
       "        }}\n",
       "}});\n",
       "\n",
       "// Listen for the removal of the full notebook cells\n",
       "var notebookContainer = gd.closest('#notebook-container');\n",
       "if (notebookContainer) {{\n",
       "    x.observe(notebookContainer, {childList: true});\n",
       "}}\n",
       "\n",
       "// Listen for the clearing of the current output cell\n",
       "var outputEl = gd.closest('.output');\n",
       "if (outputEl) {{\n",
       "    x.observe(outputEl, {childList: true});\n",
       "}}\n",
       "\n",
       "                        })                };                });            </script>        </div>"
      ]
     },
     "metadata": {},
     "output_type": "display_data"
    }
   ],
   "source": [
    "from sklearn.model_selection import train_test_split\n",
    "from sklearn.metrics import confusion_matrix, accuracy_score, classification_report, cohen_kappa_score\n",
    "from sklearn.metrics import roc_auc_score, roc_curve, f1_score, precision_score, recall_score\n",
    "from sklearn.metrics import precision_recall_curve, average_precision_score\n",
    "import statsmodels.api as sm\n",
    "from yellowbrick.classifier import DiscriminationThreshold\n",
    "\n",
    "#splitting the principal training dataset to subtrain and subtest datasets\n",
    "x_train, x_test, y_train, y_test = train_test_split(df_encoded, df_class, \n",
    "                                                    test_size = .25, random_state = 111)\n",
    "\n",
    "from sklearn.linear_model import LogisticRegression\n",
    "import plotly.graph_objs as go # visualization\n",
    "import plotly.offline as py # visualization\n",
    "py.init_notebook_mode(connected=True) # visualization\n",
    "import plotly.graph_objs as go # visualization\n",
    "from plotly.subplots import make_subplots\n",
    "import plotly.figure_factory as ff # visualization\n",
    "import warnings\n",
    "warnings.filterwarnings(\"ignore\")\n",
    "\n",
    "#prepate model        \n",
    "logit = LogisticRegression(C=0.1, class_weight=None, dual=False, fit_intercept=True,\n",
    "                           intercept_scaling=1, max_iter=100, multi_class='ovr', n_jobs=1,\n",
    "                           penalty='l2', random_state=None, solver='liblinear', tol=0.0001,\n",
    "                           verbose=0, warm_start=False)\n",
    "\n",
    "# train model\n",
    "bankruptcy_prediction(logit, x_train, x_test, y_train, y_test, \"coefficients\", threshold_plot=False)"
   ]
  },
  {
   "cell_type": "markdown",
   "metadata": {},
   "source": [
    "# Interpret the results:\n",
    "An Accuracy Score of 0.98 on Test data is a very good score with 1 being perfect 100% correct prediction. \n",
    "From the confusion Matrix we know that out of 63 prediction, only one mistake. Area under curve(True Positive/ False Positive), \n",
    "another model performance metric which often is used for unbalanced samples, is 0.985, also near perfect. The Feature Importance chart(Red means positive correlated with Bankruptcy and blue negative)  confirms that  Competitiveness, Credibility and Financial Flexibility are more powerful predictors. And positive risks do predict Non Bankruptcy. \n",
    "\n",
    "Overall we have a very good model that can predict Bankruptcy or Non Bankruptcy.\n"
   ]
  }
 ],
 "metadata": {
  "kernelspec": {
   "display_name": "Python 3 (ipykernel)",
   "language": "python",
   "name": "python3"
  },
  "language_info": {
   "codemirror_mode": {
    "name": "ipython",
    "version": 3
   },
   "file_extension": ".py",
   "mimetype": "text/x-python",
   "name": "python",
   "nbconvert_exporter": "python",
   "pygments_lexer": "ipython3",
   "version": "3.9.7"
  }
 },
 "nbformat": 4,
 "nbformat_minor": 4
}
