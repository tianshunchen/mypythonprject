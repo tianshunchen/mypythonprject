{
 "cells": [
  {
   "cell_type": "markdown",
   "id": "8cf3b79e",
   "metadata": {},
   "source": [
    "# Import python packages"
   ]
  },
  {
   "cell_type": "code",
   "execution_count": 1,
   "id": "1ee5b5d1",
   "metadata": {},
   "outputs": [],
   "source": [
    "import pandas as pd\n",
    "import numpy as np\n",
    "# %pip install pypandoc --user\n",
    "# %pip install jupyslides --user\n",
    "# %pip install yellowbrick --user\n",
    "# %pip install plotly --user\n",
    "# %pip install dill --user"
   ]
  },
  {
   "cell_type": "code",
   "execution_count": 2,
   "id": "1e38a1c5",
   "metadata": {},
   "outputs": [],
   "source": [
    "import pandas as pd\n",
    "import numpy as np"
   ]
  },
  {
   "cell_type": "markdown",
   "id": "94fb3197",
   "metadata": {},
   "source": [
    "## Create database"
   ]
  },
  {
   "cell_type": "code",
   "execution_count": 4,
   "id": "0900bf9c",
   "metadata": {},
   "outputs": [],
   "source": [
    "import pyodbc\n",
    "server = 'localhost\\SQLEXPRESS' \n",
    "username = 'sa' \n",
    "password = 'user1' \n",
    "cnxn = pyodbc.connect('DRIVER={SQL Server};SERVER='+server+';UID='+username+';PWD='+ password,autocommit=True)\n",
    "cursor = cnxn.cursor()\n",
    "\n",
    "sql1='''\n",
    "USE master;\n",
    "ALTER DATABASE DataWarehouse1 SET SINGLE_USER WITH ROLLBACK IMMEDIATE;\n",
    "DROP DATABASE IF EXISTS DataWarehouse1\n",
    "create database DataWarehouse1\n",
    "\n",
    "ALTER DATABASE DataWarehouse2 SET SINGLE_USER WITH ROLLBACK IMMEDIATE;\n",
    "DROP DATABASE IF EXISTS DataWarehouse2\n",
    "create database DataWarehouse2\n",
    "\n",
    "ALTER DATABASE datahub SET SINGLE_USER WITH ROLLBACK IMMEDIATE;\n",
    "DROP DATABASE IF EXISTS datahub\n",
    "create database datahub\n",
    "\n",
    "\n",
    "'''\n",
    "\n",
    "\n",
    "cursor.execute(sql1)\n",
    "cnxn.commit()\n",
    "\n",
    "cursor.close()"
   ]
  },
  {
   "cell_type": "markdown",
   "id": "62a2ece3",
   "metadata": {},
   "source": [
    "# Establish connection to database"
   ]
  },
  {
   "cell_type": "code",
   "execution_count": 3,
   "id": "166f5e6d",
   "metadata": {},
   "outputs": [],
   "source": [
    "import pyodbc\n",
    "import urllib\n",
    "import sqlalchemy\n",
    "\n",
    "'''sources databases'''\n",
    "params_p = urllib.parse.quote_plus(\"DRIVER={SQL Server Native Client 11.0};\"\n",
    "                                 \"SERVER=localhost\\SQLEXPRESS;\"\n",
    "                                 \"DATABASE=DataWarehouse1;\"\n",
    "                                 \"UID=sa;\"\n",
    "                                 \"PWD=user1\")\n",
    "\n",
    "engine_p = sqlalchemy.create_engine(\"mssql+pyodbc:///?odbc_connect={}\".format(params_p))\n",
    "\n",
    "\n",
    "params_s = urllib.parse.quote_plus(\"DRIVER={SQL Server Native Client 11.0};\"\n",
    "                                 \"SERVER=localhost\\SQLEXPRESS;\"\n",
    "                                 \"DATABASE=DataWarehouse2;\"\n",
    "                                 \"UID=sa;\"\n",
    "                                 \"PWD=user1\")\n",
    "\n",
    "engine_s = sqlalchemy.create_engine(\"mssql+pyodbc:///?odbc_connect={}\".format(params_s))\n",
    "\n",
    "\n",
    "\n",
    "'''destination databases'''\n",
    "\n",
    "params_datahub = urllib.parse.quote_plus(\"DRIVER={SQL Server Native Client 11.0};\"\n",
    "                                 \"SERVER=localhost\\SQLEXPRESS;\"\n",
    "                                 \"DATABASE=datahub;\"\n",
    "                                 \"UID=sa;\"\n",
    "                                 \"PWD=user1\")\n",
    "\n",
    "engine_datahub = sqlalchemy.create_engine(\"mssql+pyodbc:///?odbc_connect={}\".format(params_datahub))"
   ]
  },
  {
   "cell_type": "markdown",
   "id": "cc052a29",
   "metadata": {},
   "source": [
    "# Import data & Export data to database"
   ]
  },
  {
   "cell_type": "code",
   "execution_count": 8,
   "id": "f1c7afca",
   "metadata": {},
   "outputs": [
    {
     "name": "stdout",
     "output_type": "stream",
     "text": [
      "ab_data\n",
      "audit_engagement_data\n",
      "audit_fraud_risk_data\n",
      "audit_outlier_data\n",
      "audit_post_data\n",
      "audit_Q3_Data_30\n",
      "audit_Q3_Data_31\n",
      "audit_qualitative_bankruptcy\n",
      "credit_score\n",
      "credit_test\n",
      "credit_train\n",
      "HR_Employee_Attrition\n",
      "marketing_churn\n",
      "primary_data_funnel\n",
      "secondary_data_funnel\n"
     ]
    }
   ],
   "source": [
    "import glob\n",
    "from pathlib import Path\n",
    "\n",
    "directoryPath=r'C:/Business_Data_Analysis/data/'\n",
    "for file_name in glob.glob(directoryPath+'*.csv'):\n",
    "    if 'sales' not in file_name:\n",
    "        print(Path(file_name).stem)\n",
    "        x = pd.read_csv(file_name)\n",
    "        x.to_sql(Path(file_name).stem, engine_datahub,if_exists='replace',index=False)\n"
   ]
  },
  {
   "cell_type": "code",
   "execution_count": 12,
   "id": "be005536",
   "metadata": {},
   "outputs": [],
   "source": [
    "'''sales data'''\n",
    "\n",
    "'''initial ETL to database'''\n",
    "df_sales_p=pd.read_csv(directoryPath+'sales_primary_data.csv',parse_dates=['onboarded_month','user_login_month','auth_month'],infer_datetime_format=True,index_col=False)\n",
    "df_sales_s=pd.read_csv(directoryPath+'sales_secondary_data.csv',parse_dates=['user_login_month','auth_month'],infer_datetime_format=True,index_col=False)\n",
    "\n",
    "'''export data to datahub'''\n",
    "df_sales_s.to_sql(\"sales_data_secondary\", engine_datahub, if_exists='replace',index=False)\n",
    "df_sales_p.to_sql(\"sales_data_primary\", engine_datahub,if_exists='replace',index=False)\n",
    "# df_sales_p.to_sql(\"sql_sales_data_primary\", engine_p,if_exists='replace',index=False)\n",
    "df_sales_p.to_sql(\"sql_sales_data_primary\", engine_datahub,if_exists='replace',index=False)\n"
   ]
  },
  {
   "cell_type": "markdown",
   "id": "17452155",
   "metadata": {},
   "source": [
    "# Check data"
   ]
  },
  {
   "cell_type": "code",
   "execution_count": 10,
   "id": "3767166e",
   "metadata": {},
   "outputs": [],
   "source": [
    "# df_sales_p.shape"
   ]
  },
  {
   "cell_type": "code",
   "execution_count": null,
   "id": "2e311cd2",
   "metadata": {},
   "outputs": [],
   "source": []
  }
 ],
 "metadata": {
  "kernelspec": {
   "display_name": "Python 3 (ipykernel)",
   "language": "python",
   "name": "python3"
  },
  "language_info": {
   "codemirror_mode": {
    "name": "ipython",
    "version": 3
   },
   "file_extension": ".py",
   "mimetype": "text/x-python",
   "name": "python",
   "nbconvert_exporter": "python",
   "pygments_lexer": "ipython3",
   "version": "3.9.7"
  }
 },
 "nbformat": 4,
 "nbformat_minor": 5
}
